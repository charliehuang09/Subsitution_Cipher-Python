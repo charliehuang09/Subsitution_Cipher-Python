{
 "cells": [
  {
   "cell_type": "markdown",
   "id": "0a15a9f4",
   "metadata": {},
   "source": [
    "# How the code works"
   ]
  },
  {
   "cell_type": "code",
   "execution_count": 1,
   "id": "80738910",
   "metadata": {},
   "outputs": [],
   "source": [
    "import random\n",
    "import ipywidgets as widgets"
   ]
  },
  {
   "cell_type": "code",
   "execution_count": 2,
   "id": "54c473a6",
   "metadata": {},
   "outputs": [],
   "source": [
    "def check(visited, num):\n",
    "    t = len(visited)\n",
    "    visited.add(num)\n",
    "    if len(visited) == t:\n",
    "        return False\n",
    "    return True\n",
    "    "
   ]
  },
  {
   "cell_type": "code",
   "execution_count": 3,
   "id": "7be2ae25",
   "metadata": {},
   "outputs": [],
   "source": [
    "def create_encryption(seed):\n",
    "    visited = {-1}\n",
    "    output = [-1] * 95\n",
    "    random.seed(seed,123)\n",
    "    for i in range (95):\n",
    "        random_num = random.randint(0,94)\n",
    "        while True:\n",
    "            if check(visited, random_num):\n",
    "                visited.add(random_num)\n",
    "                output[random_num] = i\n",
    "                break\n",
    "            random_num = random.randint(0,94)\n",
    "    return output"
   ]
  },
  {
   "cell_type": "code",
   "execution_count": 4,
   "id": "857424b5",
   "metadata": {},
   "outputs": [],
   "source": [
    "def create_decryption(seed):\n",
    "    visited = {-1}\n",
    "    output = [-1] * 95\n",
    "    random.seed(seed,123)\n",
    "    for i in range (95):\n",
    "        random_num = random.randint(0,94)\n",
    "        while True:\n",
    "            if check(visited, random_num):\n",
    "                visited.add(random_num)\n",
    "                output[i] = random_num\n",
    "                break\n",
    "            random_num = random.randint(0,94)\n",
    "    return output"
   ]
  },
  {
   "cell_type": "code",
   "execution_count": 5,
   "id": "015df960",
   "metadata": {},
   "outputs": [],
   "source": [
    "def subsitute(input, encryption):\n",
    "    ascii_value = ord(input) - 32\n",
    "    output = encryption[ascii_value] + 32\n",
    "#     print(ascii_value, encryption[ascii_value], output)\n",
    "    return chr(output)"
   ]
  },
  {
   "cell_type": "code",
   "execution_count": 6,
   "id": "da231bd6",
   "metadata": {},
   "outputs": [],
   "source": [
    "def encrypt (input, seed):\n",
    "    output = \"\"\n",
    "    decryption = create_decryption(seed)\n",
    "    for i in range (len(input)):\n",
    "        output = output + subsitute(input[i], decryption)\n",
    "    return output"
   ]
  },
  {
   "cell_type": "code",
   "execution_count": 7,
   "id": "61b336a0",
   "metadata": {},
   "outputs": [],
   "source": [
    "def decrypt(input, seed):\n",
    "    output = \"\"\n",
    "    encryption = create_encryption(seed)\n",
    "    for i in range (len(input)):\n",
    "        output = output + subsitute(input[i], encryption)\n",
    "    return output"
   ]
  },
  {
   "cell_type": "markdown",
   "id": "2e2bab1a",
   "metadata": {},
   "source": [
    "# What cipher they used during the mideval ages"
   ]
  },
  {
   "cell_type": "markdown",
   "id": "a613c61a",
   "metadata": {},
   "source": [
    "**Medieval scribes such as the Anglo-Saxon scribes used Substitution Cipher  \n",
    "Substitution Cipher is a type of cryptography where a letter is substituted with another letter  \n",
    "The Anglo-Saxon scribes used Substitution Cipher for riddles  \n",
    "Fun facts: ** \n",
    "* The first Cipher ever was the ceasar cipher, but that was before the middle ages. (That would be way easier to code)  \n",
    "* Cryptography in the middle ages were mostly used for riddles. However, they still used it for political uses\n"
   ]
  },
  {
   "cell_type": "code",
   "execution_count": null,
   "id": "3b8c8560",
   "metadata": {},
   "outputs": [
    {
     "name": "stdout",
     "output_type": "stream",
     "text": [
      "What is your Message?zn5k#`nV(ZK}\n",
      "What is your seed?1\n",
      "Your encryption:  S% 0]7%F#5W}\n",
      "Your decryption:  o:ZC(-:LQrO}\n",
      "What is your Message?zn5k#`nV(ZK}\n",
      "What is your seed?1\n",
      "Your encryption:  S% 0]7%F#5W}\n",
      "Your decryption:  o:ZC(-:LQrO}\n",
      "What is your Message?zn5k#`nV(ZK}\n",
      "What is your seed?1\n",
      "Your encryption:  S% 0]7%F#5W}\n",
      "Your decryption:  o:ZC(-:LQrO}\n",
      "What is your Message?ms vo is bad\n",
      "What is your seed?1\n",
      "Your encryption:  *NCczC+NC)_|\n",
      "Your decryption:  ^W5/y5\\W51YJ\n",
      "What is your Message?*NCczC+NC)_|\n",
      "What is your seed?*NCczC+NC)_|\n",
      "Your encryption:  Rtj9(jvtj%s2\n",
      "Your decryption:  iX &m EX l3F\n",
      "What is your Message?*NCczC+NC)_|\n",
      "What is your seed?1\n",
      "Your encryption:  [,kISkQ,kA-u\n",
      "Your decryption:  ms vo is bad\n",
      "What is your Message?change my min\n",
      "What is your seed?1\n",
      "Your encryption:  I=_%<JC*oC*+%\n",
      "Your decryption:  v.Y:U$5^]5^\\:\n",
      "What is your Message?clear\n",
      "What is your seed?ysdafjdsdf\n",
      "Your encryption:  \"*dfU\n",
      "Your decryption:  C;%Es\n",
      "What is your Message?fs\n",
      "What is your seed?fds\n",
      "Your encryption:  .f\n",
      "Your decryption:  s5\n",
      "What is your Message?f\n",
      "What is your seed?ds\n",
      "Your encryption:  g\n",
      "Your decryption:  r\n",
      "What is your Message?f\n",
      "What is your seed?ds\n",
      "Your encryption:  g\n",
      "Your decryption:  r\n",
      "What is your Message?fds\n",
      "What is your seed?fds\n",
      "Your encryption:  .%f\n",
      "Your decryption:  s85\n",
      "What is your Message?f\n",
      "What is your seed?ds\n",
      "Your encryption:  g\n",
      "Your decryption:  r\n",
      "What is your Message?f\n",
      "What is your seed?ds\n",
      "Your encryption:  g\n",
      "Your decryption:  r\n",
      "What is your Message?fds\n",
      "What is your seed?f\n",
      "Your encryption:  qK:\n",
      "Your decryption:  WY'\n",
      "What is your Message?sd\n",
      "What is your seed?gaw\n",
      "Your encryption:  vt\n",
      "Your decryption:  .n\n",
      "What is your Message?ea\n",
      "What is your seed?t\n",
      "Your encryption:  mp\n",
      "Your decryption:  lV\n",
      "What is your Message?e\n",
      "What is your seed?y\n",
      "Your encryption:  y\n",
      "Your decryption:  :\n",
      "What is your Message?er\n",
      "What is your seed?g\n",
      "Your encryption:  )o\n",
      "Your decryption:  qz\n",
      "What is your Message?g\n",
      "What is your seed?d\n",
      "Your encryption:  !\n",
      "Your decryption:  O\n",
      "What is your Message?d\n",
      "What is your seed?h\n",
      "Your encryption:  o\n",
      "Your decryption:  R\n",
      "What is your Message?d\n",
      "What is your seed?h\n",
      "Your encryption:  o\n",
      "Your decryption:  R\n",
      "What is your Message?\n",
      "What is your seed?\n",
      "Your encryption:  \n",
      "Your decryption:  \n",
      "What is your Message?h\n",
      "What is your seed?\n",
      "Your encryption:  .\n",
      "Your decryption:  Q\n",
      "What is your Message?h\n",
      "What is your seed?\n",
      "Your encryption:  .\n",
      "Your decryption:  Q\n"
     ]
    }
   ],
   "source": [
    "while True:\n",
    "    a = input(\"What is your Message?\")\n",
    "    b = input(\"What is your seed?\")\n",
    "    print (\"Your encryption: \", encrypt (a,b))\n",
    "    print (\"Your decryption: \", decrypt (a,b))"
   ]
  },
  {
   "cell_type": "code",
   "execution_count": null,
   "id": "879f3916",
   "metadata": {},
   "outputs": [],
   "source": []
  }
 ],
 "metadata": {
  "kernelspec": {
   "display_name": "Python 3 (ipykernel)",
   "language": "python",
   "name": "python3"
  },
  "language_info": {
   "codemirror_mode": {
    "name": "ipython",
    "version": 3
   },
   "file_extension": ".py",
   "mimetype": "text/x-python",
   "name": "python",
   "nbconvert_exporter": "python",
   "pygments_lexer": "ipython3",
   "version": "3.9.11"
  }
 },
 "nbformat": 4,
 "nbformat_minor": 5
}

{
 "cells": [
  {
   "cell_type": "code",
   "execution_count": 78,
   "id": "80738910",
   "metadata": {},
   "outputs": [],
   "source": [
    "import random\n",
    "import ipywidgets as widgets"
   ]
  },
  {
   "cell_type": "code",
   "execution_count": 79,
   "id": "54c473a6",
   "metadata": {},
   "outputs": [],
   "source": [
    "def check(visited, num):\n",
    "    t = len(visited)\n",
    "    visited.add(num)\n",
    "    if len(visited) == t:\n",
    "        return False\n",
    "    return True\n",
    "    "
   ]
  },
  {
   "cell_type": "code",
   "execution_count": 80,
   "id": "7be2ae25",
   "metadata": {},
   "outputs": [],
   "source": [
    "def create_encryption(seed):\n",
    "    visited = {-1}\n",
    "    output = [-1] * 95\n",
    "    random.seed(seed,123)\n",
    "    for i in range (95):\n",
    "        random_num = random.randint(0,94)\n",
    "        while True:\n",
    "            if check(visited, random_num):\n",
    "                visited.add(random_num)\n",
    "                output[random_num] = i\n",
    "                break\n",
    "            random_num = random.randint(0,94)\n",
    "    return output"
   ]
  },
  {
   "cell_type": "code",
   "execution_count": 81,
   "id": "857424b5",
   "metadata": {},
   "outputs": [],
   "source": [
    "def create_decryption(seed):\n",
    "    visited = {-1}\n",
    "    output = [-1] * 95\n",
    "    random.seed(seed,123)\n",
    "    for i in range (95):\n",
    "        random_num = random.randint(0,94)\n",
    "        while True:\n",
    "            if check(visited, random_num):\n",
    "                visited.add(random_num)\n",
    "                output[i] = random_num\n",
    "                break\n",
    "            random_num = random.randint(0,94)\n",
    "    return output"
   ]
  },
  {
   "cell_type": "code",
   "execution_count": 82,
   "id": "015df960",
   "metadata": {},
   "outputs": [],
   "source": [
    "def subsitute(input, encryption):\n",
    "    ascii_value = ord(input) - 32\n",
    "    output = encryption[ascii_value] + 32\n",
    "#     print(ascii_value, encryption[ascii_value], output)\n",
    "    return chr(output)"
   ]
  },
  {
   "cell_type": "code",
   "execution_count": 83,
   "id": "21deddff",
   "metadata": {},
   "outputs": [],
   "source": [
    "def encrypt (input, seed):\n",
    "    output = \"\"\n",
    "    decryption = create_decryption(seed)\n",
    "    for i in range (len(input)):\n",
    "        output = output + subsitute(input[i], decryption)\n",
    "    return output"
   ]
  },
  {
   "cell_type": "code",
   "execution_count": 84,
   "id": "61b336a0",
   "metadata": {},
   "outputs": [],
   "source": [
    "def decrypt(input, seed):\n",
    "    output = \"\"\n",
    "    encryption = create_encryption(seed)\n",
    "    for i in range (len(input)):\n",
    "        output = output + subsitute(input[i], encryption)\n",
    "    return output"
   ]
  },
  {
   "cell_type": "markdown",
   "id": "a613c61a",
   "metadata": {},
   "source": [
    "**Medieval scribes such as the Anglo-Saxon scribes used Substitution Cipher  \n",
    "Substitution Cipher is a type of cryptography where a letter is substituted with another letter  \n",
    "The Anglo-Saxon scribes used Substitution Cipher for riddles  \n",
    "Fun facts: ** \n",
    "* The first Cipher ever was the ceasar cipher, but that was before the middle ages. (That would be way easier to code)  \n",
    "* Cryptography in the middle ages were mostly used for riddles. However, they still used it for political uses\n"
   ]
  },
  {
   "cell_type": "code",
   "execution_count": null,
   "id": "3b8c8560",
   "metadata": {},
   "outputs": [],
   "source": [
    "while True:\n",
    "    a = input(\"What is your Message?\")\n",
    "    b = input(\"What is your seed?\")\n",
    "    print (\"Your encryption: \", encrypt (a,b))\n",
    "    print (\"Your decryption: \", decrypt (a,b))"
   ]
  }
 ],
 "metadata": {
  "kernelspec": {
   "display_name": "Python 3 (ipykernel)",
   "language": "python",
   "name": "python3"
  },
  "language_info": {
   "codemirror_mode": {
    "name": "ipython",
    "version": 3
   },
   "file_extension": ".py",
   "mimetype": "text/x-python",
   "name": "python",
   "nbconvert_exporter": "python",
   "pygments_lexer": "ipython3",
   "version": "3.9.11"
  }
 },
 "nbformat": 4,
 "nbformat_minor": 5
}
